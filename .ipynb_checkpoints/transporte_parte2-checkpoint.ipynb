{
 "cells": [
  {
   "cell_type": "markdown",
   "id": "cf33aec3",
   "metadata": {},
   "source": [
    "# Modelo do transporte - parte 2"
   ]
  },
  {
   "cell_type": "markdown",
   "id": "aab700a5",
   "metadata": {},
   "source": [
    "## Importação da biblioteca"
   ]
  },
  {
   "cell_type": "code",
   "execution_count": null,
   "id": "28f303cd",
   "metadata": {},
   "outputs": [],
   "source": [
    "import pyomo.environ as pyo"
   ]
  },
  {
   "cell_type": "markdown",
   "id": "df766bb6",
   "metadata": {},
   "source": [
    "## Leitura dos dados de entrada"
   ]
  },
  {
   "cell_type": "code",
   "execution_count": null,
   "id": "05c4aa25",
   "metadata": {},
   "outputs": [],
   "source": [
    "import pandas as pd"
   ]
  },
  {
   "cell_type": "code",
   "execution_count": null,
   "id": "4ef7da02",
   "metadata": {},
   "outputs": [],
   "source": [
    "df_custos = pd.read_excel(open('dados_entrada.xlsx', 'rb'), sheet_name='custos')  "
   ]
  },
  {
   "cell_type": "code",
   "execution_count": null,
   "id": "f2a53445",
   "metadata": {},
   "outputs": [],
   "source": [
    "df_custos.head()"
   ]
  },
  {
   "cell_type": "code",
   "execution_count": null,
   "id": "3188d5b6",
   "metadata": {},
   "outputs": [],
   "source": [
    "custos = df_custos[['origem_id', 'destino_id', 'custo_unitario']].pivot(\n",
    "    index='origem_id', \n",
    "    columns='destino_id', \n",
    "    values='custo_unitario').reset_index(drop=True).to_numpy()"
   ]
  },
  {
   "cell_type": "code",
   "execution_count": null,
   "id": "c786cded",
   "metadata": {},
   "outputs": [],
   "source": [
    "custos"
   ]
  },
  {
   "cell_type": "code",
   "execution_count": null,
   "id": "fdab15cd",
   "metadata": {},
   "outputs": [],
   "source": [
    "df_fornecedores = pd.read_excel(open('dados_entrada.xlsx', 'rb'), sheet_name='fornecedores')"
   ]
  },
  {
   "cell_type": "code",
   "execution_count": null,
   "id": "5dffc597",
   "metadata": {},
   "outputs": [],
   "source": [
    "df_fornecedores.head()"
   ]
  },
  {
   "cell_type": "code",
   "execution_count": null,
   "id": "06583ade",
   "metadata": {},
   "outputs": [],
   "source": [
    "capacidade = df_fornecedores['capacidade'].to_numpy()"
   ]
  },
  {
   "cell_type": "code",
   "execution_count": null,
   "id": "1c681075",
   "metadata": {},
   "outputs": [],
   "source": [
    "capacidade"
   ]
  },
  {
   "cell_type": "code",
   "execution_count": null,
   "id": "fe19d121",
   "metadata": {},
   "outputs": [],
   "source": [
    "df_consumidores = pd.read_excel(open('dados_entrada.xlsx', 'rb'), sheet_name='consumidores')"
   ]
  },
  {
   "cell_type": "code",
   "execution_count": null,
   "id": "059dd28d",
   "metadata": {},
   "outputs": [],
   "source": [
    "df_consumidores.head()"
   ]
  },
  {
   "cell_type": "code",
   "execution_count": null,
   "id": "20e10bda",
   "metadata": {},
   "outputs": [],
   "source": [
    "demanda = df_consumidores['capacidade'].to_numpy()"
   ]
  },
  {
   "cell_type": "code",
   "execution_count": null,
   "id": "3f60c743",
   "metadata": {},
   "outputs": [],
   "source": [
    "demanda"
   ]
  },
  {
   "cell_type": "code",
   "execution_count": null,
   "id": "33bfa1f5",
   "metadata": {},
   "outputs": [],
   "source": [
    "m = len(capacidade)\n",
    "n = len(demanda)"
   ]
  },
  {
   "cell_type": "markdown",
   "id": "9cb4ae4e",
   "metadata": {},
   "source": [
    "## Modelo computacional"
   ]
  },
  {
   "cell_type": "code",
   "execution_count": null,
   "id": "fea0e421",
   "metadata": {},
   "outputs": [],
   "source": [
    "modelo = pyo.ConcreteModel()"
   ]
  },
  {
   "cell_type": "markdown",
   "id": "23b40fd1",
   "metadata": {},
   "source": [
    "### Conjuntos\n",
    "\n",
    "$I \\colon \\text{Conjunto de distribuidores,} \\; I = \\{1,2,\\ldots,m\\},$\n",
    "\n",
    "$J \\colon \\text{Conjunto de consumidores,} \\; J = \\{1,2,\\ldots,n\\}.$\n",
    "\n",
    "### Parâmetros\n",
    "\n",
    "$c_{ij} \\colon \\text{Custo unitário de transporte do distribuidor }i \\in I \\text{ para o consumidor }j \\in J,$\n",
    "\n",
    "$a_i \\colon \\text{Capacidade de fornecimento do distribuidor }i \\in I$,\n",
    "\n",
    "$b_j \\colon \\text{Demanda do consumidor }j \\in J.$\n",
    "\n",
    "### Variáveis de decisão\n",
    "\n",
    "$x_{ij} \\colon \\text{Quantidade a ser transportada do distribuidor }i \\in I \\text{ para o consumidor }j \\in J.$\n",
    "\n",
    "### Função objetivo\n",
    "\n",
    "$\\text{min }z(x) = \\sum_\\limits{i \\in I} \\sum_\\limits{j \\in J} c_{ij} x_{ij}.$\n",
    "\n",
    "### Restrições\n",
    "\n",
    "#### Capacidade\n",
    "\n",
    "$\\sum_\\limits{j \\in J} x_{ij} = a_i, \\;\\; \\forall i \\in I,$\n",
    "\n",
    "#### Demanda\n",
    "\n",
    "$\\sum_\\limits{i \\in I} x_{ij} = b_j, \\;\\; \\forall j \\in J,$\n",
    "\n",
    "#### Não negatividade\n",
    "\n",
    "$x_{ij} \\geq 0 \\;\\; \\forall i \\in I, j \\in J.$"
   ]
  },
  {
   "cell_type": "code",
   "execution_count": null,
   "id": "1cda58d8",
   "metadata": {},
   "outputs": [],
   "source": [
    "# Conjuntos:\n",
    "modelo.I = pyo.RangeSet(m)\n",
    "modelo.J = pyo.RangeSet(n)\n",
    "\n",
    "# Parâmetros:\n",
    "modelo.c = pyo.Param(modelo.I, modelo.J, initialize=lambda modelo, i, j: custos[i-1][j-1])\n",
    "modelo.a = pyo.Param(modelo.I, initialize=lambda modelo, i: capacidade[i-1])\n",
    "modelo.b = pyo.Param(modelo.J, initialize=lambda modelo, j: demanda[j-1])\n",
    "\n",
    "# Variáveis de decisão:\n",
    "modelo.x = pyo.Var(modelo.I, modelo.J, within=pyo.NonNegativeReals)\n",
    "\n",
    "# Função objetivo:\n",
    "def regra_z(mod):\n",
    "    return pyo.summation(mod.c, mod.x)\n",
    "\n",
    "modelo.z = pyo.Objective(rule=regra_z, sense=pyo.minimize) # minimize = default\n",
    "\n",
    "# Restrições de capacidade:\n",
    "def regra_capacidade(mod, i):\n",
    "    return sum(mod.x[i,j] for j in mod.J) <= mod.a[i]\n",
    "\n",
    "modelo.restr_capacidade = pyo.Constraint(modelo.I, rule=regra_capacidade)\n",
    "\n",
    "# Restrições de demanda:\n",
    "def regra_demanda(mod, j):\n",
    "    return sum(mod.x[i,j] for i in mod.I) >= mod.b[j]\n",
    "\n",
    "modelo.restr_demanda = pyo.Constraint(modelo.J, rule=regra_demanda)\n",
    "\n",
    "# Lembrete: as restrições de não negatividade já foram definidas através do argumento 'within' das variáveis de decisão"
   ]
  },
  {
   "cell_type": "markdown",
   "id": "379090bb",
   "metadata": {},
   "source": [
    "## Impressão do modelo"
   ]
  },
  {
   "cell_type": "code",
   "execution_count": null,
   "id": "f237fbb0",
   "metadata": {},
   "outputs": [],
   "source": [
    "modelo.pprint()"
   ]
  },
  {
   "cell_type": "markdown",
   "id": "7fa2c8fb",
   "metadata": {},
   "source": [
    "## Resolução"
   ]
  },
  {
   "cell_type": "code",
   "execution_count": null,
   "id": "c44d6b5b",
   "metadata": {},
   "outputs": [],
   "source": [
    "resultado = pyo.SolverFactory('glpk').solve(modelo)"
   ]
  },
  {
   "cell_type": "code",
   "execution_count": null,
   "id": "e431ed3c",
   "metadata": {},
   "outputs": [],
   "source": [
    "resultado.write()"
   ]
  },
  {
   "cell_type": "code",
   "execution_count": null,
   "id": "ba5eacab",
   "metadata": {},
   "outputs": [],
   "source": [
    "modelo.x.pprint()"
   ]
  },
  {
   "cell_type": "code",
   "execution_count": null,
   "id": "f2f78353",
   "metadata": {},
   "outputs": [],
   "source": [
    "modelo.z()"
   ]
  },
  {
   "cell_type": "markdown",
   "id": "8781820a",
   "metadata": {},
   "source": [
    "## Impressão dos resultados"
   ]
  },
  {
   "cell_type": "code",
   "execution_count": null,
   "id": "4d02044d",
   "metadata": {},
   "outputs": [],
   "source": [
    "for j in modelo.J:\n",
    "    consumidor = df_consumidores['consumidor_descr'].iloc[j-1]\n",
    "    print(f'* Consumidor {consumidor} receberá:')\n",
    "    c_total = 0\n",
    "    for i in modelo.I:\n",
    "        fornecedor = df_fornecedores['fornecedor_descr'].iloc[i-1]\n",
    "        x = modelo.x[i,j]()\n",
    "        c = modelo.c[i,j]*x\n",
    "        c_total = c_total + c\n",
    "        if x > 0:\n",
    "            print(f'     - {x} unidades de {fornecedor} - Valor: R$ {c}')\n",
    "    print(f'     - Total: R$ {c_total}')\n",
    "    print('')\n",
    "print(f'Custo total de transporte: R$ {modelo.z()}')"
   ]
  }
 ],
 "metadata": {
  "kernelspec": {
   "display_name": "Python 3",
   "language": "python",
   "name": "python3"
  },
  "language_info": {
   "codemirror_mode": {
    "name": "ipython",
    "version": 3
   },
   "file_extension": ".py",
   "mimetype": "text/x-python",
   "name": "python",
   "nbconvert_exporter": "python",
   "pygments_lexer": "ipython3",
   "version": "3.8.10"
  }
 },
 "nbformat": 4,
 "nbformat_minor": 5
}
