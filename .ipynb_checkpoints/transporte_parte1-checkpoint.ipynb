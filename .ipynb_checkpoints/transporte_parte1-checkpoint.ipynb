{
 "cells": [
  {
   "cell_type": "markdown",
   "id": "cf33aec3",
   "metadata": {},
   "source": [
    "# Modelo do transporte - parte 1"
   ]
  },
  {
   "cell_type": "markdown",
   "id": "aab700a5",
   "metadata": {},
   "source": [
    "## Importação da biblioteca"
   ]
  },
  {
   "cell_type": "code",
   "execution_count": null,
   "id": "28f303cd",
   "metadata": {},
   "outputs": [],
   "source": [
    "import pyomo.environ as pyo"
   ]
  },
  {
   "cell_type": "markdown",
   "id": "df766bb6",
   "metadata": {},
   "source": [
    "## Definição dos dados de entrada"
   ]
  },
  {
   "cell_type": "code",
   "execution_count": null,
   "id": "db92f70f",
   "metadata": {},
   "outputs": [],
   "source": [
    "custos = [[12, 22, 30], \n",
    "          [18, 24, 32], \n",
    "          [22, 15, 34]]\n",
    "\n",
    "capacidade = [100, 140, 160]\n",
    "\n",
    "demanda = [120, 130, 150]\n",
    "\n",
    "m = len(capacidade)\n",
    "n = len(demanda)"
   ]
  },
  {
   "cell_type": "markdown",
   "id": "9cb4ae4e",
   "metadata": {},
   "source": [
    "## Modelo computacional"
   ]
  },
  {
   "cell_type": "code",
   "execution_count": null,
   "id": "fea0e421",
   "metadata": {},
   "outputs": [],
   "source": [
    "modelo = pyo.ConcreteModel()"
   ]
  },
  {
   "cell_type": "markdown",
   "id": "a3b85475",
   "metadata": {},
   "source": [
    "### Conjuntos\n",
    "\n",
    "$I \\colon \\text{Conjunto de distribuidores,} \\; I = \\{1,2,\\ldots,m\\},$\n",
    "\n",
    "$J \\colon \\text{Conjunto de consumidores,} \\; J = \\{1,2,\\ldots,n\\}.$"
   ]
  },
  {
   "cell_type": "code",
   "execution_count": null,
   "id": "1cda58d8",
   "metadata": {},
   "outputs": [],
   "source": [
    "modelo.I = pyo.RangeSet(m)\n",
    "\n",
    "modelo.J = pyo.RangeSet(n)"
   ]
  },
  {
   "cell_type": "markdown",
   "id": "52ca0441",
   "metadata": {},
   "source": [
    "### Parâmetros\n",
    "\n",
    "$c_{ij} \\colon \\text{Custo unitário de transporte do distribuidor }i \\in I \\text{ para o consumidor }j \\in J,$\n",
    "\n",
    "$a_i \\colon \\text{Capacidade de fornecimento do distribuidor }i \\in I$,\n",
    "\n",
    "$b_j \\colon \\text{Demanda do consumidor }j \\in J.$"
   ]
  },
  {
   "cell_type": "code",
   "execution_count": null,
   "id": "61321954",
   "metadata": {},
   "outputs": [],
   "source": [
    "modelo.c = pyo.Param(modelo.I, modelo.J, initialize=lambda modelo, i, j: custos[i-1][j-1])\n",
    "\n",
    "modelo.a = pyo.Param(modelo.I, initialize=lambda modelo, i: capacidade[i-1])\n",
    "\n",
    "modelo.b = pyo.Param(modelo.J, initialize=lambda modelo, j: demanda[j-1])"
   ]
  },
  {
   "cell_type": "markdown",
   "id": "7e009477",
   "metadata": {},
   "source": [
    "### Variáveis de decisão\n",
    "\n",
    "$x_{ij} \\colon \\text{Quantidade a ser transportada do distribuidor }i \\in I \\text{ para o consumidor }j \\in J.$"
   ]
  },
  {
   "cell_type": "code",
   "execution_count": null,
   "id": "8d5ad736",
   "metadata": {},
   "outputs": [],
   "source": [
    "modelo.x = pyo.Var(modelo.I, modelo.J, within=pyo.NonNegativeReals)"
   ]
  },
  {
   "cell_type": "markdown",
   "id": "d3f33f8a",
   "metadata": {},
   "source": [
    "### Função objetivo\n",
    "\n",
    "$\\text{min }z(x) = \\sum_\\limits{i \\in I} \\sum_\\limits{j \\in J} c_{ij} x_{ij}.$"
   ]
  },
  {
   "cell_type": "code",
   "execution_count": null,
   "id": "77c47d41",
   "metadata": {},
   "outputs": [],
   "source": [
    "def regra_z(mod):\n",
    "    return pyo.summation(mod.c, mod.x)\n",
    "\n",
    "modelo.z = pyo.Objective(rule=regra_z, sense=pyo.minimize) # minimize = default"
   ]
  },
  {
   "cell_type": "markdown",
   "id": "c6c09993",
   "metadata": {},
   "source": [
    "### Restrições\n",
    "\n",
    "#### Capacidade\n",
    "\n",
    "$\\sum_\\limits{j \\in J} x_{ij} = a_i, \\;\\; \\forall i \\in I,$"
   ]
  },
  {
   "cell_type": "code",
   "execution_count": null,
   "id": "1d649766",
   "metadata": {},
   "outputs": [],
   "source": [
    "def regra_capacidade(mod, i):\n",
    "    return sum(mod.x[i,j] for j in mod.J) <= mod.a[i]\n",
    "\n",
    "modelo.restr_capacidade = pyo.Constraint(modelo.I, rule=regra_capacidade)"
   ]
  },
  {
   "cell_type": "markdown",
   "id": "987a5ff0",
   "metadata": {},
   "source": [
    "#### Demanda\n",
    "\n",
    "$\\sum_\\limits{i \\in I} x_{ij} = b_j, \\;\\; \\forall j \\in J,$"
   ]
  },
  {
   "cell_type": "code",
   "execution_count": null,
   "id": "23e47849",
   "metadata": {},
   "outputs": [],
   "source": [
    "def regra_demanda(mod, j):\n",
    "    return sum(mod.x[i,j] for i in mod.I) >= mod.b[j]\n",
    "\n",
    "modelo.restr_demanda = pyo.Constraint(modelo.J, rule=regra_demanda)"
   ]
  },
  {
   "cell_type": "markdown",
   "id": "31e56560",
   "metadata": {},
   "source": [
    "#### Não negatividade\n",
    "\n",
    "$x_{ij} \\geq 0 \\;\\; \\forall i \\in I, j \\in J.$"
   ]
  },
  {
   "cell_type": "markdown",
   "id": "379090bb",
   "metadata": {},
   "source": [
    "## Impressão do modelo"
   ]
  },
  {
   "cell_type": "code",
   "execution_count": null,
   "id": "f237fbb0",
   "metadata": {},
   "outputs": [],
   "source": [
    "modelo.pprint()"
   ]
  },
  {
   "cell_type": "markdown",
   "id": "7fa2c8fb",
   "metadata": {},
   "source": [
    "## Resolução"
   ]
  },
  {
   "cell_type": "code",
   "execution_count": null,
   "id": "c44d6b5b",
   "metadata": {},
   "outputs": [],
   "source": [
    "resultado = pyo.SolverFactory('glpk').solve(modelo)"
   ]
  },
  {
   "cell_type": "code",
   "execution_count": null,
   "id": "e431ed3c",
   "metadata": {},
   "outputs": [],
   "source": [
    "resultado.write()"
   ]
  },
  {
   "cell_type": "code",
   "execution_count": null,
   "id": "ba5eacab",
   "metadata": {},
   "outputs": [],
   "source": [
    "modelo.x.pprint()"
   ]
  },
  {
   "cell_type": "code",
   "execution_count": null,
   "id": "f2f78353",
   "metadata": {},
   "outputs": [],
   "source": [
    "modelo.z()"
   ]
  }
 ],
 "metadata": {
  "kernelspec": {
   "display_name": "Python 3",
   "language": "python",
   "name": "python3"
  },
  "language_info": {
   "codemirror_mode": {
    "name": "ipython",
    "version": 3
   },
   "file_extension": ".py",
   "mimetype": "text/x-python",
   "name": "python",
   "nbconvert_exporter": "python",
   "pygments_lexer": "ipython3",
   "version": "3.8.10"
  }
 },
 "nbformat": 4,
 "nbformat_minor": 5
}
