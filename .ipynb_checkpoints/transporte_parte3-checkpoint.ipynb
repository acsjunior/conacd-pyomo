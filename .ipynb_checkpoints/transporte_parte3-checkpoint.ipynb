{
 "cells": [
  {
   "cell_type": "markdown",
   "id": "cf33aec3",
   "metadata": {},
   "source": [
    "# Modelo do transporte - parte 3"
   ]
  },
  {
   "cell_type": "markdown",
   "id": "aab700a5",
   "metadata": {},
   "source": [
    "## Importação da biblioteca"
   ]
  },
  {
   "cell_type": "code",
   "execution_count": null,
   "id": "28f303cd",
   "metadata": {},
   "outputs": [],
   "source": [
    "import pyomo.environ as pyo"
   ]
  },
  {
   "cell_type": "markdown",
   "id": "52f5b674",
   "metadata": {},
   "source": [
    "## Modelo computacional"
   ]
  },
  {
   "cell_type": "code",
   "execution_count": null,
   "id": "f6811521",
   "metadata": {},
   "outputs": [],
   "source": [
    "modelo = pyo.AbstractModel()"
   ]
  },
  {
   "cell_type": "markdown",
   "id": "2268dd64",
   "metadata": {},
   "source": [
    "### Conjuntos\n",
    "\n",
    "$I \\colon \\text{Conjunto de distribuidores,} \\; I = \\{1,2,\\ldots,m\\},$\n",
    "\n",
    "$J \\colon \\text{Conjunto de consumidores,} \\; J = \\{1,2,\\ldots,n\\}.$\n",
    "\n",
    "### Parâmetros\n",
    "\n",
    "$c_{ij} \\colon \\text{Custo unitário de transporte do distribuidor }i \\in I \\text{ para o consumidor }j \\in J,$\n",
    "\n",
    "$a_i \\colon \\text{Capacidade de fornecimento do distribuidor }i \\in I$,\n",
    "\n",
    "$b_j \\colon \\text{Demanda do consumidor }j \\in J.$\n",
    "\n",
    "### Variáveis de decisão\n",
    "\n",
    "$x_{ij} \\colon \\text{Quantidade a ser transportada do distribuidor }i \\in I \\text{ para o consumidor }j \\in J.$\n",
    "\n",
    "### Função objetivo\n",
    "\n",
    "$\\text{min }z(x) = \\sum_\\limits{i \\in I} \\sum_\\limits{j \\in J} c_{ij} x_{ij}.$\n",
    "\n",
    "### Restrições\n",
    "\n",
    "#### Capacidade\n",
    "\n",
    "$\\sum_\\limits{j \\in J} x_{ij} = a_i, \\;\\; \\forall i \\in I,$\n",
    "\n",
    "#### Demanda\n",
    "\n",
    "$\\sum_\\limits{i \\in I} x_{ij} = b_j, \\;\\; \\forall j \\in J,$\n",
    "\n",
    "#### Não negatividade\n",
    "\n",
    "$x_{ij} \\geq 0 \\;\\; \\forall i \\in I, j \\in J.$"
   ]
  },
  {
   "cell_type": "code",
   "execution_count": null,
   "id": "dd91f86b",
   "metadata": {},
   "outputs": [],
   "source": [
    "# Parâmetros auxiliares:\n",
    "modelo.m = pyo.Param()\n",
    "modelo.n = pyo.Param()\n",
    "modelo.custos = pyo.Param(within=pyo.Any)\n",
    "modelo.capacidade = pyo.Param(within=pyo.Any)\n",
    "modelo.demanda = pyo.Param(within=pyo.Any)\n",
    "\n",
    "# Conjuntos:\n",
    "modelo.I = pyo.RangeSet(modelo.m)\n",
    "modelo.J = pyo.RangeSet(modelo.n)\n",
    "\n",
    "# Parâmetros:\n",
    "modelo.c = pyo.Param(modelo.I, modelo.J, initialize=lambda modelo, i, j: modelo.custos()[i-1][j-1], mutable=True)\n",
    "modelo.a = pyo.Param(modelo.I, initialize=lambda modelo, i: modelo.capacidade()[i-1])\n",
    "modelo.b = pyo.Param(modelo.J, initialize=lambda modelo, j: modelo.demanda()[j-1])\n",
    "\n",
    "# Variáveis de decisão:\n",
    "modelo.x = pyo.Var(modelo.I, modelo.J, within=pyo.NonNegativeReals)\n",
    "\n",
    "# Função objetivo:\n",
    "def regra_z(mod):\n",
    "    return pyo.summation(mod.c, mod.x)\n",
    "\n",
    "modelo.z = pyo.Objective(rule=regra_z, sense=pyo.minimize) # minimize = default\n",
    "\n",
    "# Restrições de capacidade:\n",
    "def regra_capacidade(mod, i):\n",
    "    return sum(mod.x[i,j] for j in mod.J) <= mod.a[i]\n",
    "\n",
    "modelo.restr_capacidade = pyo.Constraint(modelo.I, rule=regra_capacidade)\n",
    "\n",
    "# Restrições de demanda:\n",
    "def regra_demanda(mod, j):\n",
    "    return sum(mod.x[i,j] for i in mod.I) >= mod.b[j]\n",
    "\n",
    "modelo.restr_demanda = pyo.Constraint(modelo.J, rule=regra_demanda)\n",
    "\n",
    "# Lembrete: as restrições de não negatividade já foram definidas através do argumento 'within' das variáveis de decisão"
   ]
  },
  {
   "cell_type": "markdown",
   "id": "c77cbd98",
   "metadata": {},
   "source": [
    "## Função para lidar com a classe data_portal"
   ]
  },
  {
   "cell_type": "code",
   "execution_count": null,
   "id": "7e2713c1",
   "metadata": {},
   "outputs": [],
   "source": [
    "def converter_dict_para_data_portal(params):\n",
    "    data_portal = pyo.DataPortal()\n",
    "    \n",
    "    def __padronizar_parametros(param):\n",
    "        if isinstance(param, list):\n",
    "            if isinstance(param[0], list):\n",
    "                param = [tuple(row) for row in param]      \n",
    "        return {None: param}\n",
    "    \n",
    "    for key in params:\n",
    "        data_portal[key] = __padronizar_parametros(params[key])\n",
    "        \n",
    "    return data_portal"
   ]
  },
  {
   "cell_type": "markdown",
   "id": "b780169a",
   "metadata": {},
   "source": [
    "## Instância 1"
   ]
  },
  {
   "cell_type": "markdown",
   "id": "df766bb6",
   "metadata": {},
   "source": [
    "### Leitura dos dados de entrada"
   ]
  },
  {
   "cell_type": "code",
   "execution_count": null,
   "id": "bab57b27",
   "metadata": {},
   "outputs": [],
   "source": [
    "import pandas as pd"
   ]
  },
  {
   "cell_type": "code",
   "execution_count": null,
   "id": "af590dbf",
   "metadata": {},
   "outputs": [],
   "source": [
    "dados_entrada = 'dados_entrada.xlsx'"
   ]
  },
  {
   "cell_type": "code",
   "execution_count": null,
   "id": "15316ebc",
   "metadata": {},
   "outputs": [],
   "source": [
    "df_custos = pd.read_excel(open(dados_entrada, 'rb'), sheet_name='custos') \n",
    "\n",
    "custos = df_custos[['origem_id', 'destino_id', 'custo_unitario']].pivot(\n",
    "    index='origem_id', \n",
    "    columns='destino_id', \n",
    "    values='custo_unitario').reset_index(drop=True).to_numpy()"
   ]
  },
  {
   "cell_type": "code",
   "execution_count": null,
   "id": "ea736dba",
   "metadata": {},
   "outputs": [],
   "source": [
    "df_fornecedores = pd.read_excel(open(dados_entrada, 'rb'), sheet_name='fornecedores')\n",
    "\n",
    "capacidade = df_fornecedores['capacidade'].to_numpy()"
   ]
  },
  {
   "cell_type": "code",
   "execution_count": null,
   "id": "4b3d8d1c",
   "metadata": {},
   "outputs": [],
   "source": [
    "df_consumidores = pd.read_excel(open(dados_entrada, 'rb'), sheet_name='consumidores')\n",
    "\n",
    "demanda = df_consumidores['capacidade'].to_numpy()"
   ]
  },
  {
   "cell_type": "code",
   "execution_count": null,
   "id": "580553db",
   "metadata": {},
   "outputs": [],
   "source": [
    "m = len(capacidade)\n",
    "n = len(demanda)"
   ]
  },
  {
   "cell_type": "markdown",
   "id": "9be512c5",
   "metadata": {},
   "source": [
    "### Consolidação dos dados de entrada em um dicionário"
   ]
  },
  {
   "cell_type": "code",
   "execution_count": null,
   "id": "4b795e43",
   "metadata": {},
   "outputs": [],
   "source": [
    "dict_params = {}\n",
    "dict_params['custos'] = custos\n",
    "dict_params['capacidade'] = capacidade\n",
    "dict_params['demanda'] = demanda\n",
    "dict_params['m'] = m\n",
    "dict_params['n'] = n"
   ]
  },
  {
   "cell_type": "markdown",
   "id": "67d803a0",
   "metadata": {},
   "source": [
    "### Transformação do dicionário de parâmetros em data_portal"
   ]
  },
  {
   "cell_type": "code",
   "execution_count": null,
   "id": "470f6e57",
   "metadata": {},
   "outputs": [],
   "source": [
    "params_dp = converter_dict_para_data_portal(dict_params)"
   ]
  },
  {
   "cell_type": "code",
   "execution_count": null,
   "id": "eb71d150",
   "metadata": {},
   "outputs": [],
   "source": [
    "type(params_dp)"
   ]
  },
  {
   "cell_type": "markdown",
   "id": "3a2136a9",
   "metadata": {},
   "source": [
    "### Criação da instância do modelo"
   ]
  },
  {
   "cell_type": "code",
   "execution_count": null,
   "id": "6eefee1c",
   "metadata": {},
   "outputs": [],
   "source": [
    "instancia = modelo.create_instance(params_dp) "
   ]
  },
  {
   "cell_type": "markdown",
   "id": "c518f8b8",
   "metadata": {},
   "source": [
    "### Resolve a instância"
   ]
  },
  {
   "cell_type": "code",
   "execution_count": null,
   "id": "174a4bef",
   "metadata": {},
   "outputs": [],
   "source": [
    "resultado = pyo.SolverFactory('glpk').solve(instancia)"
   ]
  },
  {
   "cell_type": "code",
   "execution_count": null,
   "id": "1db9c9fb",
   "metadata": {},
   "outputs": [],
   "source": [
    "resultado.write()"
   ]
  },
  {
   "cell_type": "code",
   "execution_count": null,
   "id": "26189197",
   "metadata": {},
   "outputs": [],
   "source": [
    "instancia.x.pprint()"
   ]
  },
  {
   "cell_type": "code",
   "execution_count": null,
   "id": "87eac85d",
   "metadata": {},
   "outputs": [],
   "source": [
    "instancia.z()"
   ]
  },
  {
   "cell_type": "markdown",
   "id": "72540aa3",
   "metadata": {},
   "source": [
    "### Impressão dos resultados"
   ]
  },
  {
   "cell_type": "code",
   "execution_count": null,
   "id": "a4af8e4b",
   "metadata": {},
   "outputs": [],
   "source": [
    "for j in instancia.J:\n",
    "    consumidor = df_consumidores['consumidor_descr'].iloc[j-1]\n",
    "    print(f'* Consumidor {consumidor} receberá:')\n",
    "    c_total = 0\n",
    "    for i in instancia.I:\n",
    "        fornecedor = df_fornecedores['fornecedor_descr'].iloc[i-1]\n",
    "        x = instancia.x[i,j]()\n",
    "        c = instancia.c[i,j]()*x\n",
    "        c_total = c_total + c\n",
    "        if x > 0:\n",
    "            print(f'     - {x} unidades de {fornecedor} - Valor: R$ {c}')\n",
    "    print(f'     - Total: R$ {c_total}')\n",
    "    print('')\n",
    "print(f'Custo total de transporte: R$ {instancia.z()}')"
   ]
  },
  {
   "cell_type": "markdown",
   "id": "69feab66",
   "metadata": {},
   "source": [
    "## Instância 2"
   ]
  },
  {
   "cell_type": "code",
   "execution_count": null,
   "id": "397cbe0e",
   "metadata": {},
   "outputs": [],
   "source": [
    "dados_entrada = 'dados_entrada2.xlsx'"
   ]
  },
  {
   "cell_type": "code",
   "execution_count": null,
   "id": "23b31a6c",
   "metadata": {},
   "outputs": [],
   "source": [
    "df_custos = pd.read_excel(open(dados_entrada, 'rb'), sheet_name='custos') \n",
    "custos = df_custos[['origem_id', 'destino_id', 'custo_unitario']].pivot(\n",
    "    index='origem_id', \n",
    "    columns='destino_id', \n",
    "    values='custo_unitario').reset_index(drop=True).to_numpy()\n",
    "\n",
    "\n",
    "df_fornecedores = pd.read_excel(open(dados_entrada, 'rb'), sheet_name='fornecedores')\n",
    "capacidade = df_fornecedores['capacidade'].to_numpy()\n",
    "\n",
    "\n",
    "df_consumidores = pd.read_excel(open(dados_entrada, 'rb'), sheet_name='consumidores')\n",
    "demanda = df_consumidores['capacidade'].to_numpy()\n",
    "\n",
    "\n",
    "m = len(capacidade)\n",
    "n = len(demanda)"
   ]
  },
  {
   "cell_type": "code",
   "execution_count": null,
   "id": "dec48826",
   "metadata": {},
   "outputs": [],
   "source": [
    "dict_params = {}\n",
    "dict_params['custos'] = custos\n",
    "dict_params['capacidade'] = capacidade\n",
    "dict_params['demanda'] = demanda\n",
    "dict_params['m'] = m\n",
    "dict_params['n'] = n\n",
    "\n",
    "params_dp = converter_dict_para_data_portal(dict_params)"
   ]
  },
  {
   "cell_type": "code",
   "execution_count": null,
   "id": "e862bee5",
   "metadata": {},
   "outputs": [],
   "source": [
    "instancia = modelo.create_instance(params_dp)"
   ]
  },
  {
   "cell_type": "code",
   "execution_count": null,
   "id": "f9428036",
   "metadata": {},
   "outputs": [],
   "source": [
    "resultado = pyo.SolverFactory('glpk').solve(instancia)"
   ]
  },
  {
   "cell_type": "code",
   "execution_count": null,
   "id": "5f596ceb",
   "metadata": {},
   "outputs": [],
   "source": [
    "resultado.write()"
   ]
  },
  {
   "cell_type": "code",
   "execution_count": null,
   "id": "e61ef918",
   "metadata": {},
   "outputs": [],
   "source": [
    "instancia.x.pprint()"
   ]
  },
  {
   "cell_type": "markdown",
   "id": "1bb80cc4",
   "metadata": {},
   "source": [
    "### Impressão dos resultados"
   ]
  },
  {
   "cell_type": "code",
   "execution_count": null,
   "id": "c4266388",
   "metadata": {},
   "outputs": [],
   "source": [
    "for j in instancia.J:\n",
    "    consumidor = df_consumidores['consumidor_descr'].iloc[j-1]\n",
    "    print(f'* Consumidor {consumidor} receberá:')\n",
    "    c_total = 0\n",
    "    for i in instancia.I:\n",
    "        fornecedor = df_fornecedores['fornecedor_descr'].iloc[i-1]\n",
    "        x = instancia.x[i,j]()\n",
    "        c = instancia.c[i,j]()*x\n",
    "        c_total = c_total + c\n",
    "        if x > 0:\n",
    "            print(f'     - {x} unidades de {fornecedor} - Valor: R$ {c}')\n",
    "    print(f'     - Total: R$ {c_total}')\n",
    "    print('')\n",
    "print(f'Custo total de transporte: R$ {instancia.z()}')"
   ]
  },
  {
   "cell_type": "code",
   "execution_count": null,
   "id": "3dd57bca",
   "metadata": {},
   "outputs": [],
   "source": []
  }
 ],
 "metadata": {
  "kernelspec": {
   "display_name": "Python 3",
   "language": "python",
   "name": "python3"
  },
  "language_info": {
   "codemirror_mode": {
    "name": "ipython",
    "version": 3
   },
   "file_extension": ".py",
   "mimetype": "text/x-python",
   "name": "python",
   "nbconvert_exporter": "python",
   "pygments_lexer": "ipython3",
   "version": "3.8.10"
  }
 },
 "nbformat": 4,
 "nbformat_minor": 5
}
