{
 "cells": [
  {
   "cell_type": "markdown",
   "id": "cf33aec3",
   "metadata": {},
   "source": [
    "# Modelo do transporte - parte 3"
   ]
  },
  {
   "cell_type": "markdown",
   "id": "aab700a5",
   "metadata": {},
   "source": [
    "## Importação da biblioteca"
   ]
  },
  {
   "cell_type": "code",
   "execution_count": 1,
   "id": "28f303cd",
   "metadata": {},
   "outputs": [],
   "source": [
    "import pyomo.environ as pyo"
   ]
  },
  {
   "cell_type": "markdown",
   "id": "52f5b674",
   "metadata": {},
   "source": [
    "## Modelo computacional"
   ]
  },
  {
   "cell_type": "code",
   "execution_count": 2,
   "id": "f6811521",
   "metadata": {},
   "outputs": [],
   "source": [
    "modelo = pyo.AbstractModel()"
   ]
  },
  {
   "cell_type": "markdown",
   "id": "2268dd64",
   "metadata": {},
   "source": [
    "### Conjuntos\n",
    "\n",
    "$I \\colon \\text{Conjunto de distribuidores,} \\; I = \\{1,2,\\ldots,m\\},$\n",
    "\n",
    "$J \\colon \\text{Conjunto de consumidores,} \\; J = \\{1,2,\\ldots,n\\}.$\n",
    "\n",
    "### Parâmetros\n",
    "\n",
    "$c_{ij} \\colon \\text{Custo unitário de transporte do distribuidor }i \\in I \\text{ para o consumidor }j \\in J,$\n",
    "\n",
    "$a_i \\colon \\text{Capacidade de fornecimento do distribuidor }i \\in I$,\n",
    "\n",
    "$b_j \\colon \\text{Demanda do consumidor }j \\in J.$\n",
    "\n",
    "### Variáveis de decisão\n",
    "\n",
    "$x_{ij} \\colon \\text{Quantidade a ser transportada do distribuidor }i \\in I \\text{ para o consumidor }j \\in J.$\n",
    "\n",
    "### Função objetivo\n",
    "\n",
    "$\\text{min }z(x) = \\sum_\\limits{i \\in I} \\sum_\\limits{j \\in J} c_{ij} x_{ij}.$\n",
    "\n",
    "### Restrições\n",
    "\n",
    "#### Capacidade\n",
    "\n",
    "$\\sum_\\limits{j \\in J} x_{ij} = a_i, \\;\\; \\forall i \\in I,$\n",
    "\n",
    "#### Demanda\n",
    "\n",
    "$\\sum_\\limits{i \\in I} x_{ij} = b_j, \\;\\; \\forall j \\in J,$\n",
    "\n",
    "#### Não negatividade\n",
    "\n",
    "$x_{ij} \\geq 0 \\;\\; \\forall i \\in I, j \\in J.$"
   ]
  },
  {
   "cell_type": "code",
   "execution_count": 3,
   "id": "dd91f86b",
   "metadata": {},
   "outputs": [],
   "source": [
    "# Parâmetros auxiliares:\n",
    "modelo.m = pyo.Param()\n",
    "modelo.n = pyo.Param()\n",
    "modelo.custos = pyo.Param(within=pyo.Any)\n",
    "modelo.capacidade = pyo.Param(within=pyo.Any)\n",
    "modelo.demanda = pyo.Param(within=pyo.Any)\n",
    "\n",
    "# Conjuntos:\n",
    "modelo.I = pyo.RangeSet(modelo.m)\n",
    "modelo.J = pyo.RangeSet(modelo.n)\n",
    "\n",
    "# Parâmetros:\n",
    "modelo.c = pyo.Param(modelo.I, modelo.J, initialize=lambda modelo, i, j: modelo.custos()[i-1][j-1], mutable=True)\n",
    "modelo.a = pyo.Param(modelo.I, initialize=lambda modelo, i: modelo.capacidade()[i-1])\n",
    "modelo.b = pyo.Param(modelo.J, initialize=lambda modelo, j: modelo.demanda()[j-1])\n",
    "\n",
    "# Variáveis de decisão:\n",
    "modelo.x = pyo.Var(modelo.I, modelo.J, within=pyo.NonNegativeReals)\n",
    "\n",
    "# Função objetivo:\n",
    "def regra_z(mod):\n",
    "    return pyo.summation(mod.c, mod.x)\n",
    "\n",
    "modelo.z = pyo.Objective(rule=regra_z, sense=pyo.minimize) # minimize = default\n",
    "\n",
    "# Restrições de capacidade:\n",
    "def regra_capacidade(mod, i):\n",
    "    return sum(mod.x[i,j] for j in mod.J) <= mod.a[i]\n",
    "\n",
    "modelo.restr_capacidade = pyo.Constraint(modelo.I, rule=regra_capacidade)\n",
    "\n",
    "# Restrições de demanda:\n",
    "def regra_demanda(mod, j):\n",
    "    return sum(mod.x[i,j] for i in mod.I) >= mod.b[j]\n",
    "\n",
    "modelo.restr_demanda = pyo.Constraint(modelo.J, rule=regra_demanda)\n",
    "\n",
    "# Lembrete: as restrições de não negatividade já foram definidas através do argumento 'within' das variáveis de decisão"
   ]
  },
  {
   "cell_type": "markdown",
   "id": "c77cbd98",
   "metadata": {},
   "source": [
    "## Função para lidar com a classe data_portal"
   ]
  },
  {
   "cell_type": "code",
   "execution_count": 4,
   "id": "7e2713c1",
   "metadata": {},
   "outputs": [],
   "source": [
    "def converter_dict_para_data_portal(params):\n",
    "    data_portal = pyo.DataPortal()\n",
    "    \n",
    "    def __padronizar_parametros(param):\n",
    "        if isinstance(param, list):\n",
    "            if isinstance(param[0], list):\n",
    "                param = [tuple(row) for row in param]      \n",
    "        return {None: param}\n",
    "    \n",
    "    for key in params:\n",
    "        data_portal[key] = __padronizar_parametros(params[key])\n",
    "        \n",
    "    return data_portal"
   ]
  },
  {
   "cell_type": "markdown",
   "id": "b780169a",
   "metadata": {},
   "source": [
    "## Instância 1"
   ]
  },
  {
   "cell_type": "markdown",
   "id": "df766bb6",
   "metadata": {},
   "source": [
    "### Leitura dos dados de entrada"
   ]
  },
  {
   "cell_type": "code",
   "execution_count": 5,
   "id": "bab57b27",
   "metadata": {},
   "outputs": [],
   "source": [
    "import pandas as pd"
   ]
  },
  {
   "cell_type": "code",
   "execution_count": 6,
   "id": "af590dbf",
   "metadata": {},
   "outputs": [],
   "source": [
    "dados_entrada = 'dados_entrada.xlsx'"
   ]
  },
  {
   "cell_type": "code",
   "execution_count": 7,
   "id": "15316ebc",
   "metadata": {},
   "outputs": [],
   "source": [
    "df_custos = pd.read_excel(open(dados_entrada, 'rb'), sheet_name='custos') \n",
    "\n",
    "custos = df_custos[['origem_id', 'destino_id', 'custo_unitario']].pivot(\n",
    "    index='origem_id', \n",
    "    columns='destino_id', \n",
    "    values='custo_unitario').reset_index(drop=True).to_numpy()"
   ]
  },
  {
   "cell_type": "code",
   "execution_count": 8,
   "id": "ea736dba",
   "metadata": {},
   "outputs": [],
   "source": [
    "df_fornecedores = pd.read_excel(open(dados_entrada, 'rb'), sheet_name='fornecedores')\n",
    "\n",
    "capacidade = df_fornecedores['capacidade'].to_numpy()"
   ]
  },
  {
   "cell_type": "code",
   "execution_count": 10,
   "id": "4b3d8d1c",
   "metadata": {},
   "outputs": [],
   "source": [
    "df_consumidores = pd.read_excel(open(dados_entrada, 'rb'), sheet_name='consumidores')\n",
    "\n",
    "demanda = df_consumidores['demanda'].to_numpy()"
   ]
  },
  {
   "cell_type": "code",
   "execution_count": 11,
   "id": "580553db",
   "metadata": {},
   "outputs": [],
   "source": [
    "m = len(capacidade)\n",
    "n = len(demanda)"
   ]
  },
  {
   "cell_type": "markdown",
   "id": "9be512c5",
   "metadata": {},
   "source": [
    "### Consolidação dos dados de entrada em um dicionário"
   ]
  },
  {
   "cell_type": "code",
   "execution_count": 12,
   "id": "4b795e43",
   "metadata": {},
   "outputs": [],
   "source": [
    "dict_params = {}\n",
    "dict_params['custos'] = custos\n",
    "dict_params['capacidade'] = capacidade\n",
    "dict_params['demanda'] = demanda\n",
    "dict_params['m'] = m\n",
    "dict_params['n'] = n"
   ]
  },
  {
   "cell_type": "code",
   "execution_count": 13,
   "id": "32ea44f2",
   "metadata": {},
   "outputs": [
    {
     "data": {
      "text/plain": [
       "{'custos': array([[12, 22, 30],\n",
       "        [18, 24, 32],\n",
       "        [22, 15, 34]]),\n",
       " 'capacidade': array([100, 140, 160]),\n",
       " 'demanda': array([120, 130, 150]),\n",
       " 'm': 3,\n",
       " 'n': 3}"
      ]
     },
     "execution_count": 13,
     "metadata": {},
     "output_type": "execute_result"
    }
   ],
   "source": [
    "dict_params"
   ]
  },
  {
   "cell_type": "markdown",
   "id": "67d803a0",
   "metadata": {},
   "source": [
    "### Transformação do dicionário de parâmetros em data_portal"
   ]
  },
  {
   "cell_type": "code",
   "execution_count": 14,
   "id": "470f6e57",
   "metadata": {},
   "outputs": [],
   "source": [
    "params_dp = converter_dict_para_data_portal(dict_params)"
   ]
  },
  {
   "cell_type": "code",
   "execution_count": 15,
   "id": "eb71d150",
   "metadata": {},
   "outputs": [
    {
     "data": {
      "text/plain": [
       "pyomo.dataportal.DataPortal.DataPortal"
      ]
     },
     "execution_count": 15,
     "metadata": {},
     "output_type": "execute_result"
    }
   ],
   "source": [
    "type(params_dp)"
   ]
  },
  {
   "cell_type": "markdown",
   "id": "3a2136a9",
   "metadata": {},
   "source": [
    "### Criação da instância do modelo"
   ]
  },
  {
   "cell_type": "code",
   "execution_count": 16,
   "id": "6eefee1c",
   "metadata": {},
   "outputs": [],
   "source": [
    "instancia = modelo.create_instance(params_dp) "
   ]
  },
  {
   "cell_type": "markdown",
   "id": "c518f8b8",
   "metadata": {},
   "source": [
    "### Resolve a instância"
   ]
  },
  {
   "cell_type": "code",
   "execution_count": 17,
   "id": "174a4bef",
   "metadata": {},
   "outputs": [],
   "source": [
    "resultado = pyo.SolverFactory('glpk').solve(instancia)"
   ]
  },
  {
   "cell_type": "code",
   "execution_count": 18,
   "id": "1db9c9fb",
   "metadata": {},
   "outputs": [
    {
     "name": "stdout",
     "output_type": "stream",
     "text": [
      "# ==========================================================\n",
      "# = Solver Results                                         =\n",
      "# ==========================================================\n",
      "# ----------------------------------------------------------\n",
      "#   Problem Information\n",
      "# ----------------------------------------------------------\n",
      "Problem: \n",
      "- Name: unknown\n",
      "  Lower bound: 8370.0\n",
      "  Upper bound: 8370.0\n",
      "  Number of objectives: 1\n",
      "  Number of constraints: 7\n",
      "  Number of variables: 10\n",
      "  Number of nonzeros: 19\n",
      "  Sense: minimize\n",
      "# ----------------------------------------------------------\n",
      "#   Solver Information\n",
      "# ----------------------------------------------------------\n",
      "Solver: \n",
      "- Status: ok\n",
      "  Termination condition: optimal\n",
      "  Statistics: \n",
      "    Branch and bound: \n",
      "      Number of bounded subproblems: 0\n",
      "      Number of created subproblems: 0\n",
      "  Error rc: 0\n",
      "  Time: 0.020292043685913086\n",
      "# ----------------------------------------------------------\n",
      "#   Solution Information\n",
      "# ----------------------------------------------------------\n",
      "Solution: \n",
      "- number of solutions: 0\n",
      "  number of solutions displayed: 0\n"
     ]
    }
   ],
   "source": [
    "resultado.write()"
   ]
  },
  {
   "cell_type": "code",
   "execution_count": 19,
   "id": "26189197",
   "metadata": {},
   "outputs": [
    {
     "name": "stdout",
     "output_type": "stream",
     "text": [
      "x : Size=9, Index=x_index\n",
      "    Key    : Lower : Value : Upper : Fixed : Stale : Domain\n",
      "    (1, 1) :     0 : 100.0 :  None : False : False : NonNegativeReals\n",
      "    (1, 2) :     0 :   0.0 :  None : False : False : NonNegativeReals\n",
      "    (1, 3) :     0 :   0.0 :  None : False : False : NonNegativeReals\n",
      "    (2, 1) :     0 :  20.0 :  None : False : False : NonNegativeReals\n",
      "    (2, 2) :     0 :   0.0 :  None : False : False : NonNegativeReals\n",
      "    (2, 3) :     0 : 120.0 :  None : False : False : NonNegativeReals\n",
      "    (3, 1) :     0 :   0.0 :  None : False : False : NonNegativeReals\n",
      "    (3, 2) :     0 : 130.0 :  None : False : False : NonNegativeReals\n",
      "    (3, 3) :     0 :  30.0 :  None : False : False : NonNegativeReals\n"
     ]
    }
   ],
   "source": [
    "instancia.x.pprint()"
   ]
  },
  {
   "cell_type": "code",
   "execution_count": 20,
   "id": "87eac85d",
   "metadata": {},
   "outputs": [
    {
     "data": {
      "text/plain": [
       "8370.0"
      ]
     },
     "execution_count": 20,
     "metadata": {},
     "output_type": "execute_result"
    }
   ],
   "source": [
    "instancia.z()"
   ]
  },
  {
   "cell_type": "markdown",
   "id": "72540aa3",
   "metadata": {},
   "source": [
    "### Impressão dos resultados"
   ]
  },
  {
   "cell_type": "code",
   "execution_count": 21,
   "id": "a4af8e4b",
   "metadata": {},
   "outputs": [
    {
     "name": "stdout",
     "output_type": "stream",
     "text": [
      "* Consumidor São Paulo receberá:\n",
      "     - 100.0 unidades de Osasco - Valor: R$ 1200.0\n",
      "     - 20.0 unidades de Sorocaba - Valor: R$ 360.0\n",
      "     - Total: R$ 1560.0\n",
      "\n",
      "* Consumidor Rio de Janeiro receberá:\n",
      "     - 130.0 unidades de São Sebastião - Valor: R$ 1950.0\n",
      "     - Total: R$ 1950.0\n",
      "\n",
      "* Consumidor Curitiba receberá:\n",
      "     - 120.0 unidades de Sorocaba - Valor: R$ 3840.0\n",
      "     - 30.0 unidades de São Sebastião - Valor: R$ 1020.0\n",
      "     - Total: R$ 4860.0\n",
      "\n",
      "Custo total de transporte: R$ 8370.0\n"
     ]
    }
   ],
   "source": [
    "for j in instancia.J:\n",
    "    consumidor = df_consumidores['consumidor_descr'].iloc[j-1]\n",
    "    print(f'* Consumidor {consumidor} receberá:')\n",
    "    c_total = 0\n",
    "    for i in instancia.I:\n",
    "        fornecedor = df_fornecedores['fornecedor_descr'].iloc[i-1]\n",
    "        x = instancia.x[i,j]()\n",
    "        c = instancia.c[i,j]()*x\n",
    "        c_total = c_total + c\n",
    "        if x > 0:\n",
    "            print(f'     - {x} unidades de {fornecedor} - Valor: R$ {c}')\n",
    "    print(f'     - Total: R$ {c_total}')\n",
    "    print('')\n",
    "print(f'Custo total de transporte: R$ {instancia.z()}')"
   ]
  },
  {
   "cell_type": "markdown",
   "id": "69feab66",
   "metadata": {},
   "source": [
    "## Instância 2"
   ]
  },
  {
   "cell_type": "code",
   "execution_count": 22,
   "id": "397cbe0e",
   "metadata": {},
   "outputs": [],
   "source": [
    "dados_entrada = 'dados_entrada2.xlsx'"
   ]
  },
  {
   "cell_type": "code",
   "execution_count": 24,
   "id": "23b31a6c",
   "metadata": {},
   "outputs": [],
   "source": [
    "df_custos = pd.read_excel(open(dados_entrada, 'rb'), sheet_name='custos') \n",
    "custos = df_custos[['origem_id', 'destino_id', 'custo_unitario']].pivot(\n",
    "    index='origem_id', \n",
    "    columns='destino_id', \n",
    "    values='custo_unitario').reset_index(drop=True).to_numpy()\n",
    "\n",
    "\n",
    "df_fornecedores = pd.read_excel(open(dados_entrada, 'rb'), sheet_name='fornecedores')\n",
    "capacidade = df_fornecedores['capacidade'].to_numpy()\n",
    "\n",
    "\n",
    "df_consumidores = pd.read_excel(open(dados_entrada, 'rb'), sheet_name='consumidores')\n",
    "demanda = df_consumidores['demanda'].to_numpy()\n",
    "\n",
    "\n",
    "m = len(capacidade)\n",
    "n = len(demanda)"
   ]
  },
  {
   "cell_type": "code",
   "execution_count": 25,
   "id": "dec48826",
   "metadata": {},
   "outputs": [],
   "source": [
    "dict_params = {}\n",
    "dict_params['custos'] = custos\n",
    "dict_params['capacidade'] = capacidade\n",
    "dict_params['demanda'] = demanda\n",
    "dict_params['m'] = m\n",
    "dict_params['n'] = n\n",
    "\n",
    "params_dp = converter_dict_para_data_portal(dict_params)"
   ]
  },
  {
   "cell_type": "code",
   "execution_count": 26,
   "id": "e862bee5",
   "metadata": {},
   "outputs": [],
   "source": [
    "instancia2 = modelo.create_instance(params_dp)"
   ]
  },
  {
   "cell_type": "code",
   "execution_count": 27,
   "id": "f9428036",
   "metadata": {},
   "outputs": [],
   "source": [
    "resultado = pyo.SolverFactory('glpk').solve(instancia2)"
   ]
  },
  {
   "cell_type": "code",
   "execution_count": 28,
   "id": "5f596ceb",
   "metadata": {},
   "outputs": [
    {
     "name": "stdout",
     "output_type": "stream",
     "text": [
      "# ==========================================================\n",
      "# = Solver Results                                         =\n",
      "# ==========================================================\n",
      "# ----------------------------------------------------------\n",
      "#   Problem Information\n",
      "# ----------------------------------------------------------\n",
      "Problem: \n",
      "- Name: unknown\n",
      "  Lower bound: 7240.0\n",
      "  Upper bound: 7240.0\n",
      "  Number of objectives: 1\n",
      "  Number of constraints: 8\n",
      "  Number of variables: 13\n",
      "  Number of nonzeros: 25\n",
      "  Sense: minimize\n",
      "# ----------------------------------------------------------\n",
      "#   Solver Information\n",
      "# ----------------------------------------------------------\n",
      "Solver: \n",
      "- Status: ok\n",
      "  Termination condition: optimal\n",
      "  Statistics: \n",
      "    Branch and bound: \n",
      "      Number of bounded subproblems: 0\n",
      "      Number of created subproblems: 0\n",
      "  Error rc: 0\n",
      "  Time: 0.0334019660949707\n",
      "# ----------------------------------------------------------\n",
      "#   Solution Information\n",
      "# ----------------------------------------------------------\n",
      "Solution: \n",
      "- number of solutions: 0\n",
      "  number of solutions displayed: 0\n"
     ]
    }
   ],
   "source": [
    "resultado.write()"
   ]
  },
  {
   "cell_type": "code",
   "execution_count": 31,
   "id": "6d026eb3",
   "metadata": {},
   "outputs": [
    {
     "name": "stdout",
     "output_type": "stream",
     "text": [
      "x : Size=9, Index=x_index\n",
      "    Key    : Lower : Value : Upper : Fixed : Stale : Domain\n",
      "    (1, 1) :     0 : 100.0 :  None : False : False : NonNegativeReals\n",
      "    (1, 2) :     0 :   0.0 :  None : False : False : NonNegativeReals\n",
      "    (1, 3) :     0 :   0.0 :  None : False : False : NonNegativeReals\n",
      "    (2, 1) :     0 :  20.0 :  None : False : False : NonNegativeReals\n",
      "    (2, 2) :     0 :   0.0 :  None : False : False : NonNegativeReals\n",
      "    (2, 3) :     0 : 120.0 :  None : False : False : NonNegativeReals\n",
      "    (3, 1) :     0 :   0.0 :  None : False : False : NonNegativeReals\n",
      "    (3, 2) :     0 : 130.0 :  None : False : False : NonNegativeReals\n",
      "    (3, 3) :     0 :  30.0 :  None : False : False : NonNegativeReals\n"
     ]
    }
   ],
   "source": [
    "instancia.x.pprint()"
   ]
  },
  {
   "cell_type": "code",
   "execution_count": 30,
   "id": "e61ef918",
   "metadata": {},
   "outputs": [
    {
     "name": "stdout",
     "output_type": "stream",
     "text": [
      "x : Size=12, Index=x_index\n",
      "    Key    : Lower : Value : Upper : Fixed : Stale : Domain\n",
      "    (1, 1) :     0 :  90.0 :  None : False : False : NonNegativeReals\n",
      "    (1, 2) :     0 :   0.0 :  None : False : False : NonNegativeReals\n",
      "    (1, 3) :     0 :   0.0 :  None : False : False : NonNegativeReals\n",
      "    (2, 1) :     0 :  30.0 :  None : False : False : NonNegativeReals\n",
      "    (2, 2) :     0 :  30.0 :  None : False : False : NonNegativeReals\n",
      "    (2, 3) :     0 :  50.0 :  None : False : False : NonNegativeReals\n",
      "    (3, 1) :     0 :   0.0 :  None : False : False : NonNegativeReals\n",
      "    (3, 2) :     0 : 100.0 :  None : False : False : NonNegativeReals\n",
      "    (3, 3) :     0 :   0.0 :  None : False : False : NonNegativeReals\n",
      "    (4, 1) :     0 :   0.0 :  None : False : False : NonNegativeReals\n",
      "    (4, 2) :     0 :   0.0 :  None : False : False : NonNegativeReals\n",
      "    (4, 3) :     0 : 100.0 :  None : False : False : NonNegativeReals\n"
     ]
    }
   ],
   "source": [
    "instancia2.x.pprint()"
   ]
  },
  {
   "cell_type": "markdown",
   "id": "1bb80cc4",
   "metadata": {},
   "source": [
    "### Impressão dos resultados"
   ]
  },
  {
   "cell_type": "code",
   "execution_count": 33,
   "id": "c4266388",
   "metadata": {},
   "outputs": [
    {
     "name": "stdout",
     "output_type": "stream",
     "text": [
      "* Consumidor São Paulo receberá:\n",
      "     - 90.0 unidades de Osasco - Valor: R$ 1080.0\n",
      "     - 30.0 unidades de Sorocaba - Valor: R$ 540.0\n",
      "     - Total: R$ 1620.0\n",
      "\n",
      "* Consumidor Rio de Janeiro receberá:\n",
      "     - 30.0 unidades de Sorocaba - Valor: R$ 720.0\n",
      "     - 100.0 unidades de São Sebastião - Valor: R$ 1500.0\n",
      "     - Total: R$ 2220.0\n",
      "\n",
      "* Consumidor Curitiba receberá:\n",
      "     - 50.0 unidades de Sorocaba - Valor: R$ 1600.0\n",
      "     - 100.0 unidades de Santos - Valor: R$ 1800.0\n",
      "     - Total: R$ 3400.0\n",
      "\n",
      "Custo total de transporte: R$ 7240.0\n"
     ]
    }
   ],
   "source": [
    "for j in instancia2.J:\n",
    "    consumidor = df_consumidores['consumidor_descr'].iloc[j-1]\n",
    "    print(f'* Consumidor {consumidor} receberá:')\n",
    "    c_total = 0\n",
    "    for i in instancia2.I:\n",
    "        fornecedor = df_fornecedores['fornecedor_descr'].iloc[i-1]\n",
    "        x = instancia2.x[i,j]()\n",
    "        c = instancia2.c[i,j]()*x\n",
    "        c_total = c_total + c\n",
    "        if x > 0:\n",
    "            print(f'     - {x} unidades de {fornecedor} - Valor: R$ {c}')\n",
    "    print(f'     - Total: R$ {c_total}')\n",
    "    print('')\n",
    "print(f'Custo total de transporte: R$ {instancia2.z()}')"
   ]
  },
  {
   "cell_type": "code",
   "execution_count": null,
   "id": "3dd57bca",
   "metadata": {},
   "outputs": [],
   "source": []
  }
 ],
 "metadata": {
  "kernelspec": {
   "display_name": "Python 3",
   "language": "python",
   "name": "python3"
  },
  "language_info": {
   "codemirror_mode": {
    "name": "ipython",
    "version": 3
   },
   "file_extension": ".py",
   "mimetype": "text/x-python",
   "name": "python",
   "nbconvert_exporter": "python",
   "pygments_lexer": "ipython3",
   "version": "3.8.10"
  }
 },
 "nbformat": 4,
 "nbformat_minor": 5
}
