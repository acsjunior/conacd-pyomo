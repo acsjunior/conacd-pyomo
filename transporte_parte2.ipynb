{
 "cells": [
  {
   "cell_type": "markdown",
   "id": "cf33aec3",
   "metadata": {},
   "source": [
    "# Modelo do transporte - parte 2"
   ]
  },
  {
   "cell_type": "markdown",
   "id": "aab700a5",
   "metadata": {},
   "source": [
    "## Importação da biblioteca"
   ]
  },
  {
   "cell_type": "code",
   "execution_count": 1,
   "id": "28f303cd",
   "metadata": {},
   "outputs": [],
   "source": [
    "import pyomo.environ as pyo"
   ]
  },
  {
   "cell_type": "markdown",
   "id": "df766bb6",
   "metadata": {},
   "source": [
    "## Leitura dos dados de entrada"
   ]
  },
  {
   "cell_type": "code",
   "execution_count": 2,
   "id": "05c4aa25",
   "metadata": {},
   "outputs": [],
   "source": [
    "import pandas as pd"
   ]
  },
  {
   "cell_type": "code",
   "execution_count": 3,
   "id": "4ef7da02",
   "metadata": {},
   "outputs": [],
   "source": [
    "df_custos = pd.read_excel(open('dados_entrada.xlsx', 'rb'), sheet_name='custos')  "
   ]
  },
  {
   "cell_type": "code",
   "execution_count": 4,
   "id": "f2a53445",
   "metadata": {},
   "outputs": [
    {
     "data": {
      "text/html": [
       "<div>\n",
       "<style scoped>\n",
       "    .dataframe tbody tr th:only-of-type {\n",
       "        vertical-align: middle;\n",
       "    }\n",
       "\n",
       "    .dataframe tbody tr th {\n",
       "        vertical-align: top;\n",
       "    }\n",
       "\n",
       "    .dataframe thead th {\n",
       "        text-align: right;\n",
       "    }\n",
       "</style>\n",
       "<table border=\"1\" class=\"dataframe\">\n",
       "  <thead>\n",
       "    <tr style=\"text-align: right;\">\n",
       "      <th></th>\n",
       "      <th>origem_id</th>\n",
       "      <th>origem_descr</th>\n",
       "      <th>destino_id</th>\n",
       "      <th>destino_descr</th>\n",
       "      <th>custo_unitario</th>\n",
       "    </tr>\n",
       "  </thead>\n",
       "  <tbody>\n",
       "    <tr>\n",
       "      <th>0</th>\n",
       "      <td>1</td>\n",
       "      <td>Osasco</td>\n",
       "      <td>1</td>\n",
       "      <td>São Paulo</td>\n",
       "      <td>12</td>\n",
       "    </tr>\n",
       "    <tr>\n",
       "      <th>1</th>\n",
       "      <td>1</td>\n",
       "      <td>Osasco</td>\n",
       "      <td>2</td>\n",
       "      <td>Rio de Janeiro</td>\n",
       "      <td>22</td>\n",
       "    </tr>\n",
       "    <tr>\n",
       "      <th>2</th>\n",
       "      <td>1</td>\n",
       "      <td>Osasco</td>\n",
       "      <td>3</td>\n",
       "      <td>Curitiba</td>\n",
       "      <td>30</td>\n",
       "    </tr>\n",
       "    <tr>\n",
       "      <th>3</th>\n",
       "      <td>2</td>\n",
       "      <td>Sorocaba</td>\n",
       "      <td>1</td>\n",
       "      <td>São Paulo</td>\n",
       "      <td>18</td>\n",
       "    </tr>\n",
       "    <tr>\n",
       "      <th>4</th>\n",
       "      <td>2</td>\n",
       "      <td>Sorocaba</td>\n",
       "      <td>2</td>\n",
       "      <td>Rio de Janeiro</td>\n",
       "      <td>24</td>\n",
       "    </tr>\n",
       "    <tr>\n",
       "      <th>5</th>\n",
       "      <td>2</td>\n",
       "      <td>Sorocaba</td>\n",
       "      <td>3</td>\n",
       "      <td>Curitiba</td>\n",
       "      <td>32</td>\n",
       "    </tr>\n",
       "    <tr>\n",
       "      <th>6</th>\n",
       "      <td>3</td>\n",
       "      <td>São Sebastião</td>\n",
       "      <td>1</td>\n",
       "      <td>São Paulo</td>\n",
       "      <td>22</td>\n",
       "    </tr>\n",
       "    <tr>\n",
       "      <th>7</th>\n",
       "      <td>3</td>\n",
       "      <td>São Sebastião</td>\n",
       "      <td>2</td>\n",
       "      <td>Rio de Janeiro</td>\n",
       "      <td>15</td>\n",
       "    </tr>\n",
       "    <tr>\n",
       "      <th>8</th>\n",
       "      <td>3</td>\n",
       "      <td>São Sebastião</td>\n",
       "      <td>3</td>\n",
       "      <td>Curitiba</td>\n",
       "      <td>34</td>\n",
       "    </tr>\n",
       "  </tbody>\n",
       "</table>\n",
       "</div>"
      ],
      "text/plain": [
       "   origem_id   origem_descr  destino_id   destino_descr  custo_unitario\n",
       "0          1         Osasco           1       São Paulo              12\n",
       "1          1         Osasco           2  Rio de Janeiro              22\n",
       "2          1         Osasco           3        Curitiba              30\n",
       "3          2       Sorocaba           1       São Paulo              18\n",
       "4          2       Sorocaba           2  Rio de Janeiro              24\n",
       "5          2       Sorocaba           3        Curitiba              32\n",
       "6          3  São Sebastião           1       São Paulo              22\n",
       "7          3  São Sebastião           2  Rio de Janeiro              15\n",
       "8          3  São Sebastião           3        Curitiba              34"
      ]
     },
     "execution_count": 4,
     "metadata": {},
     "output_type": "execute_result"
    }
   ],
   "source": [
    "df_custos"
   ]
  },
  {
   "cell_type": "code",
   "execution_count": 5,
   "id": "3188d5b6",
   "metadata": {},
   "outputs": [],
   "source": [
    "custos = df_custos[['origem_id', 'destino_id', 'custo_unitario']].pivot(\n",
    "    index='origem_id', \n",
    "    columns='destino_id', \n",
    "    values='custo_unitario').reset_index(drop=True).to_numpy()"
   ]
  },
  {
   "cell_type": "code",
   "execution_count": 6,
   "id": "c786cded",
   "metadata": {},
   "outputs": [
    {
     "data": {
      "text/plain": [
       "array([[12, 22, 30],\n",
       "       [18, 24, 32],\n",
       "       [22, 15, 34]])"
      ]
     },
     "execution_count": 6,
     "metadata": {},
     "output_type": "execute_result"
    }
   ],
   "source": [
    "custos"
   ]
  },
  {
   "cell_type": "code",
   "execution_count": 7,
   "id": "fdab15cd",
   "metadata": {},
   "outputs": [],
   "source": [
    "df_fornecedores = pd.read_excel(open('dados_entrada.xlsx', 'rb'), sheet_name='fornecedores')"
   ]
  },
  {
   "cell_type": "code",
   "execution_count": 8,
   "id": "5dffc597",
   "metadata": {},
   "outputs": [
    {
     "data": {
      "text/html": [
       "<div>\n",
       "<style scoped>\n",
       "    .dataframe tbody tr th:only-of-type {\n",
       "        vertical-align: middle;\n",
       "    }\n",
       "\n",
       "    .dataframe tbody tr th {\n",
       "        vertical-align: top;\n",
       "    }\n",
       "\n",
       "    .dataframe thead th {\n",
       "        text-align: right;\n",
       "    }\n",
       "</style>\n",
       "<table border=\"1\" class=\"dataframe\">\n",
       "  <thead>\n",
       "    <tr style=\"text-align: right;\">\n",
       "      <th></th>\n",
       "      <th>fornecedor_id</th>\n",
       "      <th>fornecedor_descr</th>\n",
       "      <th>capacidade</th>\n",
       "    </tr>\n",
       "  </thead>\n",
       "  <tbody>\n",
       "    <tr>\n",
       "      <th>0</th>\n",
       "      <td>1</td>\n",
       "      <td>Osasco</td>\n",
       "      <td>100</td>\n",
       "    </tr>\n",
       "    <tr>\n",
       "      <th>1</th>\n",
       "      <td>2</td>\n",
       "      <td>Sorocaba</td>\n",
       "      <td>140</td>\n",
       "    </tr>\n",
       "    <tr>\n",
       "      <th>2</th>\n",
       "      <td>3</td>\n",
       "      <td>São Sebastião</td>\n",
       "      <td>160</td>\n",
       "    </tr>\n",
       "  </tbody>\n",
       "</table>\n",
       "</div>"
      ],
      "text/plain": [
       "   fornecedor_id fornecedor_descr  capacidade\n",
       "0              1           Osasco         100\n",
       "1              2         Sorocaba         140\n",
       "2              3    São Sebastião         160"
      ]
     },
     "execution_count": 8,
     "metadata": {},
     "output_type": "execute_result"
    }
   ],
   "source": [
    "df_fornecedores"
   ]
  },
  {
   "cell_type": "code",
   "execution_count": 9,
   "id": "06583ade",
   "metadata": {},
   "outputs": [],
   "source": [
    "capacidade = df_fornecedores['capacidade'].to_numpy()"
   ]
  },
  {
   "cell_type": "code",
   "execution_count": 10,
   "id": "1c681075",
   "metadata": {},
   "outputs": [
    {
     "data": {
      "text/plain": [
       "array([100, 140, 160])"
      ]
     },
     "execution_count": 10,
     "metadata": {},
     "output_type": "execute_result"
    }
   ],
   "source": [
    "capacidade"
   ]
  },
  {
   "cell_type": "code",
   "execution_count": 11,
   "id": "fe19d121",
   "metadata": {},
   "outputs": [],
   "source": [
    "df_consumidores = pd.read_excel(open('dados_entrada.xlsx', 'rb'), sheet_name='consumidores')"
   ]
  },
  {
   "cell_type": "code",
   "execution_count": 12,
   "id": "059dd28d",
   "metadata": {},
   "outputs": [
    {
     "data": {
      "text/html": [
       "<div>\n",
       "<style scoped>\n",
       "    .dataframe tbody tr th:only-of-type {\n",
       "        vertical-align: middle;\n",
       "    }\n",
       "\n",
       "    .dataframe tbody tr th {\n",
       "        vertical-align: top;\n",
       "    }\n",
       "\n",
       "    .dataframe thead th {\n",
       "        text-align: right;\n",
       "    }\n",
       "</style>\n",
       "<table border=\"1\" class=\"dataframe\">\n",
       "  <thead>\n",
       "    <tr style=\"text-align: right;\">\n",
       "      <th></th>\n",
       "      <th>consumidor_id</th>\n",
       "      <th>consumidor_descr</th>\n",
       "      <th>demanda</th>\n",
       "    </tr>\n",
       "  </thead>\n",
       "  <tbody>\n",
       "    <tr>\n",
       "      <th>0</th>\n",
       "      <td>1</td>\n",
       "      <td>São Paulo</td>\n",
       "      <td>120</td>\n",
       "    </tr>\n",
       "    <tr>\n",
       "      <th>1</th>\n",
       "      <td>2</td>\n",
       "      <td>Rio de Janeiro</td>\n",
       "      <td>130</td>\n",
       "    </tr>\n",
       "    <tr>\n",
       "      <th>2</th>\n",
       "      <td>3</td>\n",
       "      <td>Curitiba</td>\n",
       "      <td>150</td>\n",
       "    </tr>\n",
       "  </tbody>\n",
       "</table>\n",
       "</div>"
      ],
      "text/plain": [
       "   consumidor_id consumidor_descr  demanda\n",
       "0              1        São Paulo      120\n",
       "1              2   Rio de Janeiro      130\n",
       "2              3         Curitiba      150"
      ]
     },
     "execution_count": 12,
     "metadata": {},
     "output_type": "execute_result"
    }
   ],
   "source": [
    "df_consumidores"
   ]
  },
  {
   "cell_type": "code",
   "execution_count": 13,
   "id": "20e10bda",
   "metadata": {},
   "outputs": [],
   "source": [
    "demanda = df_consumidores['demanda'].to_numpy()"
   ]
  },
  {
   "cell_type": "code",
   "execution_count": 14,
   "id": "3f60c743",
   "metadata": {},
   "outputs": [
    {
     "data": {
      "text/plain": [
       "array([120, 130, 150])"
      ]
     },
     "execution_count": 14,
     "metadata": {},
     "output_type": "execute_result"
    }
   ],
   "source": [
    "demanda"
   ]
  },
  {
   "cell_type": "code",
   "execution_count": 15,
   "id": "33bfa1f5",
   "metadata": {},
   "outputs": [],
   "source": [
    "m = len(capacidade)\n",
    "n = len(demanda)"
   ]
  },
  {
   "cell_type": "markdown",
   "id": "9cb4ae4e",
   "metadata": {},
   "source": [
    "## Modelo computacional"
   ]
  },
  {
   "cell_type": "code",
   "execution_count": 16,
   "id": "fea0e421",
   "metadata": {},
   "outputs": [],
   "source": [
    "modelo = pyo.ConcreteModel()"
   ]
  },
  {
   "cell_type": "markdown",
   "id": "23b40fd1",
   "metadata": {},
   "source": [
    "### Conjuntos\n",
    "\n",
    "$I \\colon \\text{Conjunto de distribuidores,} \\; I = \\{1,2,\\ldots,m\\},$\n",
    "\n",
    "$J \\colon \\text{Conjunto de consumidores,} \\; J = \\{1,2,\\ldots,n\\}.$\n",
    "\n",
    "### Parâmetros\n",
    "\n",
    "$c_{ij} \\colon \\text{Custo unitário de transporte do distribuidor }i \\in I \\text{ para o consumidor }j \\in J,$\n",
    "\n",
    "$a_i \\colon \\text{Capacidade de fornecimento do distribuidor }i \\in I$,\n",
    "\n",
    "$b_j \\colon \\text{Demanda do consumidor }j \\in J.$\n",
    "\n",
    "### Variáveis de decisão\n",
    "\n",
    "$x_{ij} \\colon \\text{Quantidade a ser transportada do distribuidor }i \\in I \\text{ para o consumidor }j \\in J.$\n",
    "\n",
    "### Função objetivo\n",
    "\n",
    "$\\text{min }z(x) = \\sum_\\limits{i \\in I} \\sum_\\limits{j \\in J} c_{ij} x_{ij}.$\n",
    "\n",
    "### Restrições\n",
    "\n",
    "#### Capacidade\n",
    "\n",
    "$\\sum_\\limits{j \\in J} x_{ij} = a_i, \\;\\; \\forall i \\in I,$\n",
    "\n",
    "#### Demanda\n",
    "\n",
    "$\\sum_\\limits{i \\in I} x_{ij} = b_j, \\;\\; \\forall j \\in J,$\n",
    "\n",
    "#### Não negatividade\n",
    "\n",
    "$x_{ij} \\geq 0 \\;\\; \\forall i \\in I, j \\in J.$"
   ]
  },
  {
   "cell_type": "code",
   "execution_count": 17,
   "id": "1cda58d8",
   "metadata": {},
   "outputs": [],
   "source": [
    "# Conjuntos:\n",
    "modelo.I = pyo.RangeSet(m)\n",
    "modelo.J = pyo.RangeSet(n)\n",
    "\n",
    "# Parâmetros:\n",
    "modelo.c = pyo.Param(modelo.I, modelo.J, initialize=lambda modelo, i, j: custos[i-1][j-1])\n",
    "modelo.a = pyo.Param(modelo.I, initialize=lambda modelo, i: capacidade[i-1])\n",
    "modelo.b = pyo.Param(modelo.J, initialize=lambda modelo, j: demanda[j-1])\n",
    "\n",
    "# Variáveis de decisão:\n",
    "modelo.x = pyo.Var(modelo.I, modelo.J, within=pyo.NonNegativeReals)\n",
    "\n",
    "# Função objetivo:\n",
    "def regra_z(mod):\n",
    "    return pyo.summation(mod.c, mod.x)\n",
    "\n",
    "modelo.z = pyo.Objective(rule=regra_z, sense=pyo.minimize) # minimize = default\n",
    "\n",
    "# Restrições de capacidade:\n",
    "def regra_capacidade(mod, i):\n",
    "    return sum(mod.x[i,j] for j in mod.J) <= mod.a[i]\n",
    "\n",
    "modelo.restr_capacidade = pyo.Constraint(modelo.I, rule=regra_capacidade)\n",
    "\n",
    "# Restrições de demanda:\n",
    "def regra_demanda(mod, j):\n",
    "    return sum(mod.x[i,j] for i in mod.I) >= mod.b[j]\n",
    "\n",
    "modelo.restr_demanda = pyo.Constraint(modelo.J, rule=regra_demanda)\n",
    "\n",
    "# Lembrete: as restrições de não negatividade já foram definidas através do argumento 'within' das variáveis de decisão"
   ]
  },
  {
   "cell_type": "markdown",
   "id": "379090bb",
   "metadata": {},
   "source": [
    "## Impressão do modelo"
   ]
  },
  {
   "cell_type": "code",
   "execution_count": 18,
   "id": "f237fbb0",
   "metadata": {},
   "outputs": [],
   "source": [
    "# modelo.pprint()"
   ]
  },
  {
   "cell_type": "markdown",
   "id": "7fa2c8fb",
   "metadata": {},
   "source": [
    "## Resolução"
   ]
  },
  {
   "cell_type": "code",
   "execution_count": 19,
   "id": "c44d6b5b",
   "metadata": {},
   "outputs": [],
   "source": [
    "resultado = pyo.SolverFactory('glpk').solve(modelo)"
   ]
  },
  {
   "cell_type": "code",
   "execution_count": 20,
   "id": "e431ed3c",
   "metadata": {},
   "outputs": [
    {
     "name": "stdout",
     "output_type": "stream",
     "text": [
      "# ==========================================================\n",
      "# = Solver Results                                         =\n",
      "# ==========================================================\n",
      "# ----------------------------------------------------------\n",
      "#   Problem Information\n",
      "# ----------------------------------------------------------\n",
      "Problem: \n",
      "- Name: unknown\n",
      "  Lower bound: 8370.0\n",
      "  Upper bound: 8370.0\n",
      "  Number of objectives: 1\n",
      "  Number of constraints: 7\n",
      "  Number of variables: 10\n",
      "  Number of nonzeros: 19\n",
      "  Sense: minimize\n",
      "# ----------------------------------------------------------\n",
      "#   Solver Information\n",
      "# ----------------------------------------------------------\n",
      "Solver: \n",
      "- Status: ok\n",
      "  Termination condition: optimal\n",
      "  Statistics: \n",
      "    Branch and bound: \n",
      "      Number of bounded subproblems: 0\n",
      "      Number of created subproblems: 0\n",
      "  Error rc: 0\n",
      "  Time: 0.026992082595825195\n",
      "# ----------------------------------------------------------\n",
      "#   Solution Information\n",
      "# ----------------------------------------------------------\n",
      "Solution: \n",
      "- number of solutions: 0\n",
      "  number of solutions displayed: 0\n"
     ]
    }
   ],
   "source": [
    "resultado.write()"
   ]
  },
  {
   "cell_type": "code",
   "execution_count": 21,
   "id": "ba5eacab",
   "metadata": {},
   "outputs": [
    {
     "name": "stdout",
     "output_type": "stream",
     "text": [
      "x : Size=9, Index=x_index\n",
      "    Key    : Lower : Value : Upper : Fixed : Stale : Domain\n",
      "    (1, 1) :     0 : 100.0 :  None : False : False : NonNegativeReals\n",
      "    (1, 2) :     0 :   0.0 :  None : False : False : NonNegativeReals\n",
      "    (1, 3) :     0 :   0.0 :  None : False : False : NonNegativeReals\n",
      "    (2, 1) :     0 :  20.0 :  None : False : False : NonNegativeReals\n",
      "    (2, 2) :     0 :   0.0 :  None : False : False : NonNegativeReals\n",
      "    (2, 3) :     0 : 120.0 :  None : False : False : NonNegativeReals\n",
      "    (3, 1) :     0 :   0.0 :  None : False : False : NonNegativeReals\n",
      "    (3, 2) :     0 : 130.0 :  None : False : False : NonNegativeReals\n",
      "    (3, 3) :     0 :  30.0 :  None : False : False : NonNegativeReals\n"
     ]
    }
   ],
   "source": [
    "modelo.x.pprint()"
   ]
  },
  {
   "cell_type": "code",
   "execution_count": 22,
   "id": "f2f78353",
   "metadata": {},
   "outputs": [
    {
     "data": {
      "text/plain": [
       "8370.0"
      ]
     },
     "execution_count": 22,
     "metadata": {},
     "output_type": "execute_result"
    }
   ],
   "source": [
    "modelo.z()"
   ]
  },
  {
   "cell_type": "markdown",
   "id": "8781820a",
   "metadata": {},
   "source": [
    "## Impressão dos resultados"
   ]
  },
  {
   "cell_type": "code",
   "execution_count": 23,
   "id": "4d02044d",
   "metadata": {},
   "outputs": [
    {
     "name": "stdout",
     "output_type": "stream",
     "text": [
      "* Consumidor São Paulo receberá:\n",
      "     - 100.0 unidades de Osasco - Valor: R$ 1200.0\n",
      "     - 20.0 unidades de Sorocaba - Valor: R$ 360.0\n",
      "     - Total: R$ 1560.0\n",
      "\n",
      "* Consumidor Rio de Janeiro receberá:\n",
      "     - 130.0 unidades de São Sebastião - Valor: R$ 1950.0\n",
      "     - Total: R$ 1950.0\n",
      "\n",
      "* Consumidor Curitiba receberá:\n",
      "     - 120.0 unidades de Sorocaba - Valor: R$ 3840.0\n",
      "     - 30.0 unidades de São Sebastião - Valor: R$ 1020.0\n",
      "     - Total: R$ 4860.0\n",
      "\n",
      "Custo total de transporte: R$ 8370.0\n"
     ]
    }
   ],
   "source": [
    "for j in modelo.J:\n",
    "    consumidor = df_consumidores['consumidor_descr'].iloc[j-1]\n",
    "    print(f'* Consumidor {consumidor} receberá:')\n",
    "    c_total = 0\n",
    "    for i in modelo.I:\n",
    "        fornecedor = df_fornecedores['fornecedor_descr'].iloc[i-1]\n",
    "        x = modelo.x[i,j]()\n",
    "        c = modelo.c[i,j]*x\n",
    "        c_total = c_total + c\n",
    "        if x > 0:\n",
    "            print(f'     - {x} unidades de {fornecedor} - Valor: R$ {c}')\n",
    "    print(f'     - Total: R$ {c_total}')\n",
    "    print('')\n",
    "print(f'Custo total de transporte: R$ {modelo.z()}')"
   ]
  },
  {
   "cell_type": "code",
   "execution_count": null,
   "id": "407f1e31",
   "metadata": {},
   "outputs": [],
   "source": []
  }
 ],
 "metadata": {
  "kernelspec": {
   "display_name": "Python 3",
   "language": "python",
   "name": "python3"
  },
  "language_info": {
   "codemirror_mode": {
    "name": "ipython",
    "version": 3
   },
   "file_extension": ".py",
   "mimetype": "text/x-python",
   "name": "python",
   "nbconvert_exporter": "python",
   "pygments_lexer": "ipython3",
   "version": "3.8.10"
  }
 },
 "nbformat": 4,
 "nbformat_minor": 5
}
