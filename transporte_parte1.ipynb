{
 "cells": [
  {
   "cell_type": "markdown",
   "id": "cf33aec3",
   "metadata": {},
   "source": [
    "# Modelo do transporte - parte 1"
   ]
  },
  {
   "cell_type": "markdown",
   "id": "aab700a5",
   "metadata": {},
   "source": [
    "## Importação da biblioteca"
   ]
  },
  {
   "cell_type": "code",
   "execution_count": 1,
   "id": "28f303cd",
   "metadata": {},
   "outputs": [],
   "source": [
    "import pyomo.environ as pyo"
   ]
  },
  {
   "cell_type": "markdown",
   "id": "df766bb6",
   "metadata": {},
   "source": [
    "## Definição dos dados de entrada"
   ]
  },
  {
   "cell_type": "code",
   "execution_count": 2,
   "id": "db92f70f",
   "metadata": {},
   "outputs": [],
   "source": [
    "custos = [[12, 22, 30], \n",
    "          [18, 24, 32], \n",
    "          [22, 15, 34]]\n",
    "\n",
    "capacidade = [100, 140, 160]\n",
    "\n",
    "demanda = [120, 130, 150]\n",
    "\n",
    "m = len(capacidade)\n",
    "n = len(demanda)"
   ]
  },
  {
   "cell_type": "markdown",
   "id": "9cb4ae4e",
   "metadata": {},
   "source": [
    "## Modelo computacional"
   ]
  },
  {
   "cell_type": "code",
   "execution_count": 3,
   "id": "fea0e421",
   "metadata": {},
   "outputs": [],
   "source": [
    "modelo = pyo.ConcreteModel()"
   ]
  },
  {
   "cell_type": "markdown",
   "id": "a3b85475",
   "metadata": {},
   "source": [
    "### Conjuntos\n",
    "\n",
    "$I \\colon \\text{Conjunto de distribuidores,} \\; I = \\{1,2,\\ldots,m\\},$\n",
    "\n",
    "$J \\colon \\text{Conjunto de consumidores,} \\; J = \\{1,2,\\ldots,n\\}.$"
   ]
  },
  {
   "cell_type": "code",
   "execution_count": 4,
   "id": "1cda58d8",
   "metadata": {},
   "outputs": [],
   "source": [
    "modelo.I = pyo.RangeSet(m)\n",
    "\n",
    "modelo.J = pyo.RangeSet(n)"
   ]
  },
  {
   "cell_type": "markdown",
   "id": "52ca0441",
   "metadata": {},
   "source": [
    "### Parâmetros\n",
    "\n",
    "$c_{ij} \\colon \\text{Custo unitário de transporte do distribuidor }i \\in I \\text{ para o consumidor }j \\in J,$\n",
    "\n",
    "$a_i \\colon \\text{Capacidade de fornecimento do distribuidor }i \\in I$,\n",
    "\n",
    "$b_j \\colon \\text{Demanda do consumidor }j \\in J.$"
   ]
  },
  {
   "cell_type": "code",
   "execution_count": 5,
   "id": "61321954",
   "metadata": {},
   "outputs": [],
   "source": [
    "modelo.c = pyo.Param(modelo.I, modelo.J, initialize=lambda modelo, i, j: custos[i-1][j-1])\n",
    "\n",
    "modelo.a = pyo.Param(modelo.I, initialize=lambda modelo, i: capacidade[i-1])\n",
    "\n",
    "modelo.b = pyo.Param(modelo.J, initialize=lambda modelo, j: demanda[j-1])"
   ]
  },
  {
   "cell_type": "markdown",
   "id": "7e009477",
   "metadata": {},
   "source": [
    "### Variáveis de decisão\n",
    "\n",
    "$x_{ij} \\colon \\text{Quantidade a ser transportada do distribuidor }i \\in I \\text{ para o consumidor }j \\in J.$"
   ]
  },
  {
   "cell_type": "code",
   "execution_count": 6,
   "id": "8d5ad736",
   "metadata": {},
   "outputs": [],
   "source": [
    "modelo.x = pyo.Var(modelo.I, modelo.J, within=pyo.NonNegativeReals)"
   ]
  },
  {
   "cell_type": "markdown",
   "id": "d3f33f8a",
   "metadata": {},
   "source": [
    "### Função objetivo\n",
    "\n",
    "$\\text{min }z(x) = \\sum_\\limits{i \\in I} \\sum_\\limits{j \\in J} c_{ij} x_{ij}.$"
   ]
  },
  {
   "cell_type": "code",
   "execution_count": 7,
   "id": "77c47d41",
   "metadata": {},
   "outputs": [],
   "source": [
    "def regra_z(mod):\n",
    "    return pyo.summation(mod.c, mod.x)\n",
    "\n",
    "modelo.z = pyo.Objective(rule=regra_z, sense=pyo.minimize) # minimize = default"
   ]
  },
  {
   "cell_type": "markdown",
   "id": "c6c09993",
   "metadata": {},
   "source": [
    "### Restrições\n",
    "\n",
    "#### Capacidade\n",
    "\n",
    "$\\sum_\\limits{j \\in J} x_{ij} = a_i, \\;\\; \\forall i \\in I,$"
   ]
  },
  {
   "cell_type": "code",
   "execution_count": 8,
   "id": "1d649766",
   "metadata": {},
   "outputs": [],
   "source": [
    "def regra_capacidade(mod, i):\n",
    "    return sum(mod.x[i,j] for j in mod.J) == mod.a[i]\n",
    "\n",
    "modelo.restr_capacidade = pyo.Constraint(modelo.I, rule=regra_capacidade)"
   ]
  },
  {
   "cell_type": "markdown",
   "id": "987a5ff0",
   "metadata": {},
   "source": [
    "#### Demanda\n",
    "\n",
    "$\\sum_\\limits{i \\in I} x_{ij} = b_j, \\;\\; \\forall j \\in J,$"
   ]
  },
  {
   "cell_type": "code",
   "execution_count": 9,
   "id": "23e47849",
   "metadata": {},
   "outputs": [],
   "source": [
    "def regra_demanda(mod, j):\n",
    "    return sum(mod.x[i,j] for i in mod.I) == mod.b[j]\n",
    "\n",
    "modelo.restr_demanda = pyo.Constraint(modelo.J, rule=regra_demanda)"
   ]
  },
  {
   "cell_type": "markdown",
   "id": "31e56560",
   "metadata": {},
   "source": [
    "#### Não negatividade\n",
    "\n",
    "$x_{ij} \\geq 0 \\;\\; \\forall i \\in I, j \\in J.$"
   ]
  },
  {
   "cell_type": "markdown",
   "id": "379090bb",
   "metadata": {},
   "source": [
    "## Impressão do modelo"
   ]
  },
  {
   "cell_type": "code",
   "execution_count": 10,
   "id": "f237fbb0",
   "metadata": {},
   "outputs": [
    {
     "name": "stdout",
     "output_type": "stream",
     "text": [
      "2 Set Declarations\n",
      "    c_index : Size=1, Index=None, Ordered=True\n",
      "        Key  : Dimen : Domain : Size : Members\n",
      "        None :     2 :    I*J :    9 : {(1, 1), (1, 2), (1, 3), (2, 1), (2, 2), (2, 3), (3, 1), (3, 2), (3, 3)}\n",
      "    x_index : Size=1, Index=None, Ordered=True\n",
      "        Key  : Dimen : Domain : Size : Members\n",
      "        None :     2 :    I*J :    9 : {(1, 1), (1, 2), (1, 3), (2, 1), (2, 2), (2, 3), (3, 1), (3, 2), (3, 3)}\n",
      "\n",
      "2 RangeSet Declarations\n",
      "    I : Dimen=1, Size=3, Bounds=(1, 3)\n",
      "        Key  : Finite : Members\n",
      "        None :   True :   [1:3]\n",
      "    J : Dimen=1, Size=3, Bounds=(1, 3)\n",
      "        Key  : Finite : Members\n",
      "        None :   True :   [1:3]\n",
      "\n",
      "3 Param Declarations\n",
      "    a : Size=3, Index=I, Domain=Any, Default=None, Mutable=False\n",
      "        Key : Value\n",
      "          1 :   100\n",
      "          2 :   140\n",
      "          3 :   160\n",
      "    b : Size=3, Index=J, Domain=Any, Default=None, Mutable=False\n",
      "        Key : Value\n",
      "          1 :   120\n",
      "          2 :   130\n",
      "          3 :   150\n",
      "    c : Size=9, Index=c_index, Domain=Any, Default=None, Mutable=False\n",
      "        Key    : Value\n",
      "        (1, 1) :    12\n",
      "        (1, 2) :    22\n",
      "        (1, 3) :    30\n",
      "        (2, 1) :    18\n",
      "        (2, 2) :    24\n",
      "        (2, 3) :    32\n",
      "        (3, 1) :    22\n",
      "        (3, 2) :    15\n",
      "        (3, 3) :    34\n",
      "\n",
      "1 Var Declarations\n",
      "    x : Size=9, Index=x_index\n",
      "        Key    : Lower : Value : Upper : Fixed : Stale : Domain\n",
      "        (1, 1) :     0 :  None :  None : False :  True : NonNegativeReals\n",
      "        (1, 2) :     0 :  None :  None : False :  True : NonNegativeReals\n",
      "        (1, 3) :     0 :  None :  None : False :  True : NonNegativeReals\n",
      "        (2, 1) :     0 :  None :  None : False :  True : NonNegativeReals\n",
      "        (2, 2) :     0 :  None :  None : False :  True : NonNegativeReals\n",
      "        (2, 3) :     0 :  None :  None : False :  True : NonNegativeReals\n",
      "        (3, 1) :     0 :  None :  None : False :  True : NonNegativeReals\n",
      "        (3, 2) :     0 :  None :  None : False :  True : NonNegativeReals\n",
      "        (3, 3) :     0 :  None :  None : False :  True : NonNegativeReals\n",
      "\n",
      "1 Objective Declarations\n",
      "    z : Size=1, Index=None, Active=True\n",
      "        Key  : Active : Sense    : Expression\n",
      "        None :   True : minimize : 12*x[1,1] + 22*x[1,2] + 30*x[1,3] + 18*x[2,1] + 24*x[2,2] + 32*x[2,3] + 22*x[3,1] + 15*x[3,2] + 34*x[3,3]\n",
      "\n",
      "2 Constraint Declarations\n",
      "    restr_capacidade : Size=3, Index=I, Active=True\n",
      "        Key : Lower : Body                     : Upper : Active\n",
      "          1 : 100.0 : x[1,1] + x[1,2] + x[1,3] : 100.0 :   True\n",
      "          2 : 140.0 : x[2,1] + x[2,2] + x[2,3] : 140.0 :   True\n",
      "          3 : 160.0 : x[3,1] + x[3,2] + x[3,3] : 160.0 :   True\n",
      "    restr_demanda : Size=3, Index=J, Active=True\n",
      "        Key : Lower : Body                     : Upper : Active\n",
      "          1 : 120.0 : x[1,1] + x[2,1] + x[3,1] : 120.0 :   True\n",
      "          2 : 130.0 : x[1,2] + x[2,2] + x[3,2] : 130.0 :   True\n",
      "          3 : 150.0 : x[1,3] + x[2,3] + x[3,3] : 150.0 :   True\n",
      "\n",
      "11 Declarations: I J c_index c a b x_index x z restr_capacidade restr_demanda\n"
     ]
    }
   ],
   "source": [
    "modelo.pprint()"
   ]
  },
  {
   "cell_type": "markdown",
   "id": "7fa2c8fb",
   "metadata": {},
   "source": [
    "## Resolução"
   ]
  },
  {
   "cell_type": "code",
   "execution_count": 11,
   "id": "c44d6b5b",
   "metadata": {},
   "outputs": [],
   "source": [
    "resultado = pyo.SolverFactory('glpk').solve(modelo)"
   ]
  },
  {
   "cell_type": "code",
   "execution_count": 12,
   "id": "e431ed3c",
   "metadata": {},
   "outputs": [
    {
     "name": "stdout",
     "output_type": "stream",
     "text": [
      "# ==========================================================\n",
      "# = Solver Results                                         =\n",
      "# ==========================================================\n",
      "# ----------------------------------------------------------\n",
      "#   Problem Information\n",
      "# ----------------------------------------------------------\n",
      "Problem: \n",
      "- Name: unknown\n",
      "  Lower bound: 8370.0\n",
      "  Upper bound: 8370.0\n",
      "  Number of objectives: 1\n",
      "  Number of constraints: 7\n",
      "  Number of variables: 10\n",
      "  Number of nonzeros: 19\n",
      "  Sense: minimize\n",
      "# ----------------------------------------------------------\n",
      "#   Solver Information\n",
      "# ----------------------------------------------------------\n",
      "Solver: \n",
      "- Status: ok\n",
      "  Termination condition: optimal\n",
      "  Statistics: \n",
      "    Branch and bound: \n",
      "      Number of bounded subproblems: 0\n",
      "      Number of created subproblems: 0\n",
      "  Error rc: 0\n",
      "  Time: 0.015750885009765625\n",
      "# ----------------------------------------------------------\n",
      "#   Solution Information\n",
      "# ----------------------------------------------------------\n",
      "Solution: \n",
      "- number of solutions: 0\n",
      "  number of solutions displayed: 0\n"
     ]
    }
   ],
   "source": [
    "resultado.write()"
   ]
  },
  {
   "cell_type": "code",
   "execution_count": 15,
   "id": "ba5eacab",
   "metadata": {},
   "outputs": [
    {
     "name": "stdout",
     "output_type": "stream",
     "text": [
      "x : Size=9, Index=x_index\n",
      "    Key    : Lower : Value : Upper : Fixed : Stale : Domain\n",
      "    (1, 1) :     0 : 100.0 :  None : False : False : NonNegativeReals\n",
      "    (1, 2) :     0 :   0.0 :  None : False : False : NonNegativeReals\n",
      "    (1, 3) :     0 :   0.0 :  None : False : False : NonNegativeReals\n",
      "    (2, 1) :     0 :  20.0 :  None : False : False : NonNegativeReals\n",
      "    (2, 2) :     0 :   0.0 :  None : False : False : NonNegativeReals\n",
      "    (2, 3) :     0 : 120.0 :  None : False : False : NonNegativeReals\n",
      "    (3, 1) :     0 :   0.0 :  None : False : False : NonNegativeReals\n",
      "    (3, 2) :     0 : 130.0 :  None : False : False : NonNegativeReals\n",
      "    (3, 3) :     0 :  30.0 :  None : False : False : NonNegativeReals\n"
     ]
    }
   ],
   "source": [
    "modelo.x.pprint()"
   ]
  },
  {
   "cell_type": "code",
   "execution_count": 16,
   "id": "f2f78353",
   "metadata": {},
   "outputs": [
    {
     "data": {
      "text/plain": [
       "8370.0"
      ]
     },
     "execution_count": 16,
     "metadata": {},
     "output_type": "execute_result"
    }
   ],
   "source": [
    "modelo.z()"
   ]
  },
  {
   "cell_type": "code",
   "execution_count": null,
   "id": "1d60bf34",
   "metadata": {},
   "outputs": [],
   "source": []
  }
 ],
 "metadata": {
  "kernelspec": {
   "display_name": "Python 3",
   "language": "python",
   "name": "python3"
  },
  "language_info": {
   "codemirror_mode": {
    "name": "ipython",
    "version": 3
   },
   "file_extension": ".py",
   "mimetype": "text/x-python",
   "name": "python",
   "nbconvert_exporter": "python",
   "pygments_lexer": "ipython3",
   "version": "3.8.10"
  }
 },
 "nbformat": 4,
 "nbformat_minor": 5
}
